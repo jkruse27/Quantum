{
 "cells": [
  {
   "cell_type": "markdown",
   "metadata": {},
   "source": [
    "# Mathematical Derivation of Quantum Teleportation"
   ]
  },
  {
   "cell_type": "markdown",
   "metadata": {},
   "source": [
    "In this notebook we are going to prove mathematically the algorithm for quantum teleportation."
   ]
  },
  {
   "cell_type": "markdown",
   "metadata": {},
   "source": [
    "### Initial States"
   ]
  },
  {
   "cell_type": "markdown",
   "metadata": {},
   "source": [
    "Initially we have 3 qubits: $\\psi$ , $q_{0}$ e  $q_{1}$, with the first to belonging to Ana and the last to Bob. Our main objective is to send the quantum state from $\\psi$ to Bob (recall that it is not possible to copy a quantum state from one qubit to another). In the beggining, we have: $\\psi$ = $\\alpha \\left| 0 \\right\\rangle $ + $\\beta \\left| 1 \\right\\rangle $, $q_{0}$ = $ \\left| 0 \\right\\rangle $ and $q_{1}$ = $ \\left| 0 \\right\\rangle $."
   ]
  },
  {
   "cell_type": "markdown",
   "metadata": {},
   "source": [
    "### First Step"
   ]
  },
  {
   "cell_type": "markdown",
   "metadata": {},
   "source": [
    "To begin, we must apply a Hadamard Gate to $q_{0}$. This means we must multiply $q_{0}$ by H. We know that the matrix that represents the Hadamard Gate is given by H = $\\frac{1}{\\sqrt{2}}\\begin{bmatrix}1 & 1 \\\\ 1 & -1\\end{bmatrix}$. With this, we have that $Hq_{0}$ = $\\frac{1}{\\sqrt{2}}\\begin{bmatrix}1 \\\\ 1\\end{bmatrix}$ = $q_{0}$. Following, the algorithm says that we do a cnot with $q_{0}$ as control and $q_{1}$ as target. The combined state of the qubits $q_{0}$ e $q_{1}$ is given by its tensor product ($q_{0}\\bigotimes q_{1}$) which results in the state E = $\\begin{bmatrix}1 \\\\ 0 \\\\ 1 \\\\ 0\\end{bmatrix}$. Furthermore, the CNOT operation can ve represented by the matrix <br>\n",
    "CX = $\\begin{bmatrix}1 & 0 & 0 & 0\\\\ 0 & 1 & 0 & 0 \\\\ 0 & 0 & 0 & 1 \\\\ 0 & 0 & 1 & 0\\end{bmatrix}$. The CNOT application can be expressed as the multiplication of the matrices, so that the resulting state ($E_{R}$) is <br>CXE = $\\frac{1}{\\sqrt{2}}\\begin{bmatrix}1 \\\\ 0 \\\\ 0 \\\\ 1\\end{bmatrix}$ = $\\frac{\\left| 00 \\right\\rangle + \\left| 11 \\right\\rangle }{\\sqrt{2}}$ =  $E_{R}$. This resulting state is known as Bell Pair or Bell State."
   ]
  },
  {
   "cell_type": "markdown",
   "metadata": {},
   "source": [
    "### Second Step"
   ]
  },
  {
   "cell_type": "markdown",
   "metadata": {},
   "source": [
    "Next, we need to apply a cnot with $\\psi$ as control and $q_{0}$ as target. For that, we need to see what is the new state representing the 2 qubits with $\\psi$. Thereunto, we apply again $\\psi \\bigotimes E_{R}$, which results in a new $E_{R}$ = $\\frac{1}{\\sqrt{2}}\\begin{bmatrix}\\alpha \\\\ 0 \\\\ 0 \\\\ \\alpha \\\\ \\beta \\\\ 0 \\\\ 0 \\\\ \\beta \\end{bmatrix}$ = $\\frac{\\alpha (\\left| 000 \\right\\rangle + \\left| 011 \\right\\rangle) + \\beta(\\left| 100 \\right\\rangle + \\left| 111 \\right\\rangle)}{\\sqrt{2}}$. With this state, we will apply the cnot operation between the first($\\psi$) and second ($q_{0}$) qubits. In order not to interfere directly with $q_{1}$, we are going to apply CX between the 2 former qubits and the identity to $q_{1}$. To do this, we take the tensor product of CX and I (I is the second factor because it will be applied to the last qubit). With this, we have $CX \\bigotimes I$ = $\\begin{bmatrix}1 & 0 & 0 & 0 & 0 & 0 & 0 & 0 \\\\ 0 & 1 & 0 & 0 & 0 & 0 & 0 & 0 \\\\ 0 & 0 & 1 & 0 & 0 & 0 & 0 & 0 \\\\ 0 & 0 & 0 & 1 & 0 & 0 & 0 & 0 \\\\ 0 & 0 & 0 & 0 & 0 & 0 & 1 & 0 \\\\ 0 & 0 & 0 & 0 & 0 & 0 & 0 & 1 \\\\ 0 & 0 & 0 & 0 & 1 & 0 & 0 & 0 \\\\ 0 & 0 & 0 & 0 & 0 & 1 & 0 & 0 \\\\\\end{bmatrix}$. This way, after multiplying $(CX \\bigotimes I)E_{R}$, our new resulting state is $E_{R}$ = $\\begin{bmatrix}\\alpha \\\\ 0 \\\\ 0 \\\\ \\alpha \\\\ 0 \\\\ \\beta \\\\ \\beta \\\\ 0 \\end{bmatrix}$ = $\\frac{\\alpha (\\left| 000 \\right\\rangle + \\left| 011 \\right\\rangle) + \\beta(\\left| 101 \\right\\rangle + \\left| 110 \\right\\rangle)}{\\sqrt{2}}$.<br> After that, we must apply a Hadamard Gate to $\\psi$. Again, as it will only be applied to $\\psi$, we need to apply the matrix $H \\bigotimes I \\bigotimes I$ = $\\frac{1}{\\sqrt{2}}\\begin{bmatrix} 1 & 0 & 0 & 0 & 1 & 0 & 0 & 0 \\\\ 0 & 1 & 0 & 0 & 0 & 1 & 0 & 0 \\\\ 0 & 0 & 1 & 0 & 0 & 0 & 1 & 0 \\\\ 0 & 0 & 0 & 1 & 0 & 0 & 0 & 1 \\\\ 1 & 0 & 0 & 0 & -1 & 0 & 0 & 0 \\\\ 0 & 1 & 0 & 0 & 0 & -1 & 0 & 0 \\\\ 0 & 0 & 1 & 0 & 0 & 0 & -1 & 0 \\\\ 0 & 0 & 0 & 1 & 0 & 0 & 0 & -1 \\end{bmatrix}$ to the current state. By doing this, we end up with $(H \\bigotimes I \\bigotimes I)E_{R}$ = $\\frac{1}{2}\\begin{bmatrix}\\alpha \\\\ \\beta \\\\ \\beta \\\\ \\alpha \\\\ \\alpha \\\\ -\\beta \\\\ -\\beta \\\\ \\alpha \\end{bmatrix}$."
   ]
  },
  {
   "cell_type": "markdown",
   "metadata": {},
   "source": [
    "### Third Step"
   ]
  },
  {
   "cell_type": "markdown",
   "metadata": {},
   "source": [
    "Notice that the current state of the qubits $E_{R}$ can be written as <br>$E_{R}$ = $\\frac{\\alpha\\left| 000 \\right\\rangle + \\alpha\\left| 011 \\right\\rangle + \\alpha\\left| 100 \\right\\rangle + \\alpha\\left| 111 \\right\\rangle + \\beta\\left| 001 \\right\\rangle + \\beta\\left| 011 \\right\\rangle - \\beta\\left| 101 \\right\\rangle - \\beta\\left| 110 \\right\\rangle}{2}$. Detaching the values from the 2 first bits ($\\psi$ e $q_{0}$), and grouping them, we arrive at $E_{R}$ = $\\frac{\\left| 00 \\right\\rangle (\\alpha\\left| 0 \\right\\rangle + \\beta\\left| 1 \\right\\rangle) + \\left| 01 \\right\\rangle (\\alpha\\left| 1 \\right\\rangle + \\beta\\left| 0 \\right\\rangle) + \\left| 10 \\right\\rangle (\\alpha\\left| 0 \\right\\rangle - \\beta\\left| 1 \\right\\rangle) + \\left| 11 \\right\\rangle (\\alpha\\left| 1 \\right\\rangle - \\beta\\left| 0 \\right\\rangle)}{2}$. Performing the measurement from the 2 former qubits we can see in which of the cases we end up in, and can find how to proceed from there. The possibilities are shown below."
   ]
  },
  {
   "cell_type": "markdown",
   "metadata": {},
   "source": [
    "#### Case 1 - |00>"
   ]
  },
  {
   "cell_type": "markdown",
   "metadata": {},
   "source": [
    "In this case, we have that the qubit $q_{1}$ is given by $\\alpha\\left| 0 \\right\\rangle + \\beta\\left| 1 \\right\\rangle$, so it already has the original value of $\\psi$ in $q_{1}$ and our objective is done.<br> Final Result: $\\psi$ --> $q_{1}$"
   ]
  },
  {
   "cell_type": "markdown",
   "metadata": {},
   "source": [
    "#### Case 2 - |01>"
   ]
  },
  {
   "cell_type": "markdown",
   "metadata": {},
   "source": [
    "In this case, we have that the qubit $q_{1}$ is given by $\\alpha\\left| 1 \\right\\rangle + \\beta\\left| 0 \\right\\rangle$. We we pay close attention, this value is the inverse of $\\psi$, so, by applying a NOT Gate (X = $\\begin{bmatrix} 0 & 1 \\\\ 1 & 0 \\end{bmatrix}$) which will swap the values in $\\left| 0 \\right\\rangle$ and $\\left| 1 \\right\\rangle$ , we end up with the original value of $\\psi$ in $q_{1}$, which was our goal.<br> Final Result: $\\psi$ -->  X$q_{1}$"
   ]
  },
  {
   "cell_type": "markdown",
   "metadata": {},
   "source": [
    "#### Case 3 - |10>"
   ]
  },
  {
   "cell_type": "markdown",
   "metadata": {},
   "source": [
    "In this case, we have that the qubit $q_{1}$ is given by $\\alpha\\left| 0 \\right\\rangle - \\beta\\left| 1 \\right\\rangle$. If we pay attention, the only difference between this value and $\\psi$ is that the coefficient of $\\alpha\\left| 1 \\right\\rangle$ is negative, so, by applying a Z Gate (Z = $\\begin{bmatrix} 1 & 0 \\\\ 0 & -1 \\end{bmatrix}$), we end up with the original value of $\\psi$ in $q_{1}$, which was our goal. <br> Final Result: $\\psi$ -->  Z$q_{1}$"
   ]
  },
  {
   "cell_type": "markdown",
   "metadata": {},
   "source": [
    "#### Case 4 - |11>"
   ]
  },
  {
   "cell_type": "markdown",
   "metadata": {},
   "source": [
    "At last, in this final case we have that $q_{1}$ is given by $\\alpha\\left| 1 \\right\\rangle - \\beta\\left| 0 \\right\\rangle$. By looking closely, we see that, not only are $\\left| 0 \\right\\rangle$ and $\\left| 1 \\right\\rangle$ swapped , but also $\\left| 1 \\right\\rangle$ is negative in comparison to the original value in $\\psi$. With this, we must first swap the values in $\\left| 0 \\right\\rangle$ and $\\left| 1 \\right\\rangle$ utilizing a NOT Gate, and following apply a Z Gate to reverse the sign of $\\beta$. With this we end up with the original value of $\\psi$ in $q_{1}$, which was our goal. <br> Final Result: $\\psi$ --> ZX$q_{1}$"
   ]
  },
  {
   "cell_type": "markdown",
   "metadata": {},
   "source": [
    "## Conclusion"
   ]
  },
  {
   "cell_type": "markdown",
   "metadata": {},
   "source": [
    "    In the end, we can see the mathematical derivation of the algorithm used to transfer a quantum state from one qubit to another. It's worth mentioning that in this last step of verification, the measurement of the vaues present in $\\psi$ and $q_{0}$ is made and this value is passed in a classical manner to the program to discover in which case it is to decide if the application of any other operation is necessary to obtain the final result. Besides, this was not copying the state of one qubit to another because the original state in $\\psi$ was lost."
   ]
  },
  {
   "cell_type": "code",
   "execution_count": null,
   "metadata": {},
   "outputs": [],
   "source": []
  }
 ],
 "metadata": {
  "kernelspec": {
   "display_name": "Python (Qiskitenv)",
   "language": "python",
   "name": "qiskitenv"
  },
  "language_info": {
   "codemirror_mode": {
    "name": "ipython",
    "version": 3
   },
   "file_extension": ".py",
   "mimetype": "text/x-python",
   "name": "python",
   "nbconvert_exporter": "python",
   "pygments_lexer": "ipython3",
   "version": "3.7.4"
  }
 },
 "nbformat": 4,
 "nbformat_minor": 2
}
