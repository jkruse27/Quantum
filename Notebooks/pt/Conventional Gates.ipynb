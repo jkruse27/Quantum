{
 "cells": [
  {
   "cell_type": "markdown",
   "metadata": {},
   "source": [
    "# Implementação das portas lógicas tradicionais "
   ]
  },
  {
   "cell_type": "markdown",
   "metadata": {},
   "source": [
    "### Resolução dos exercícios em  Problems - Set 1 do Qiskit Textbook."
   ]
  },
  {
   "cell_type": "code",
   "execution_count": 2,
   "metadata": {},
   "outputs": [],
   "source": [
    "from qiskit import Aer\n",
    "from qiskit import *"
   ]
  },
  {
   "cell_type": "markdown",
   "metadata": {},
   "source": [
    "NOT Gate"
   ]
  },
  {
   "cell_type": "code",
   "execution_count": 3,
   "metadata": {},
   "outputs": [],
   "source": [
    "def NOT(input):\n",
    "\n",
    "    q = QuantumRegister(1) # qubit para codificar a entrada e permitir sua manipulação\n",
    "    c = ClassicalRegister(1) # bit clássico para guardar o resultado\n",
    "    qc = QuantumCircuit(q, c) # circuito onde o gate irá\n",
    "    \n",
    "    # Nós codificamos '0' como o estado |0⟩, e '1' como |1⟩\n",
    "    # Como o qubit é inicialmente |0⟩, não precisamos fazer nada para a entrada '0'\n",
    "    # Para uma entrada '1', nós realizamos um x para rotacionar o |0⟩ para |1⟩\n",
    "    if input=='1':\n",
    "        qc.x( q[0] )\n",
    "        \n",
    "    # Agora que codificamos a entrada, podemos realizar um NOT nela usando x\n",
    "    qc.x( q[0] )\n",
    "    \n",
    "    # Por fim, extraimos a saída |0⟩/|1⟩ do qubit e codificamos ela no bit c[0]\n",
    "    qc.measure( q[0], c[0] )\n",
    "    \n",
    "    # O programa será executado em um simulador\n",
    "    backend = Aer.get_backend('qasm_simulator')\n",
    "    # Como a saída é determinística, podemos usar apenas uma execução (\"shots\") para a obtenção do resultado\n",
    "    job = execute(qc,backend,shots=1)\n",
    "    output = next(iter(job.result().get_counts()))\n",
    "    \n",
    "    return output"
   ]
  },
  {
   "cell_type": "markdown",
   "metadata": {},
   "source": [
    "XOR Gate"
   ]
  },
  {
   "cell_type": "code",
   "execution_count": 4,
   "metadata": {},
   "outputs": [],
   "source": [
    "def XOR(input1,input2):\n",
    "    \n",
    "    q = QuantumRegister(2)\n",
    "    c = ClassicalRegister(1)\n",
    "    qc = QuantumCircuit(q, c) \n",
    "    \n",
    "    \n",
    "    # Define os bits no circuito\n",
    "    if input1=='1':\n",
    "        qc.x( q[0] )\n",
    "    if input2=='1':\n",
    "        qc.x( q[1] )\n",
    "        \n",
    "    # Implementação do XOR\n",
    "    qc.cx(0, 1)\n",
    "    \n",
    "    # Medição e Simulação\n",
    "    qc.measure(q[1],c[0])     \n",
    "    backend = Aer.get_backend('qasm_simulator')\n",
    "    # Since the output will be deterministic, we can use just a single shot to get it\n",
    "    job = execute(qc,backend,shots=1,memory=True)\n",
    "    output = job.result().get_memory()[0]\n",
    "    \n",
    "    return output"
   ]
  },
  {
   "cell_type": "markdown",
   "metadata": {},
   "source": [
    "AND Gate"
   ]
  },
  {
   "cell_type": "code",
   "execution_count": 6,
   "metadata": {},
   "outputs": [],
   "source": [
    "def AND(input1,input2):\n",
    "    \n",
    "    q = QuantumRegister(3)\n",
    "    c = ClassicalRegister(1)\n",
    "    qc = QuantumCircuit(q, c)\n",
    "    \n",
    "    # Define os bits no circuito\n",
    "    if input1=='1':\n",
    "        qc.x( q[0] )\n",
    "    if input2=='1':\n",
    "        qc.x( q[1] )\n",
    "        \n",
    "    # Implementação do AND\n",
    "    qc.ccx(0, 1, 2)\n",
    "    \n",
    "    # Medição e Simulação\n",
    "    qc.measure(q[2],c[0])\n",
    "    backend = Aer.get_backend('qasm_simulator')\n",
    "    job = execute(qc,backend,shots=1,memory=True)\n",
    "    output = job.result().get_memory()[0]\n",
    "    \n",
    "    return output"
   ]
  },
  {
   "cell_type": "markdown",
   "metadata": {},
   "source": [
    "NAND Gate"
   ]
  },
  {
   "cell_type": "code",
   "execution_count": 7,
   "metadata": {},
   "outputs": [],
   "source": [
    "def NAND(input1,input2):\n",
    "  \n",
    "    q = QuantumRegister(3)\n",
    "    c = ClassicalRegister(1)\n",
    "    qc = QuantumCircuit(q, c)\n",
    "    \n",
    "    # Define os bits no circuito\n",
    "    if input1=='1':\n",
    "        qc.x( q[0] )\n",
    "    if input2=='1':\n",
    "        qc.x( q[1] )\n",
    "        \n",
    "    # Implementação do NAND\n",
    "    qc.ccx(0, 1, 2)\n",
    "    qc.x(2)\n",
    "    \n",
    "    # Medição e Simulação \n",
    "    qc.measure(q[2],c[0])\n",
    "    backend = Aer.get_backend('qasm_simulator')\n",
    "    job = execute(qc,backend,shots=1,memory=True)\n",
    "    output = job.result().get_memory()[0]\n",
    "    \n",
    "    return output"
   ]
  },
  {
   "cell_type": "markdown",
   "metadata": {},
   "source": [
    "OR Gate"
   ]
  },
  {
   "cell_type": "code",
   "execution_count": 11,
   "metadata": {},
   "outputs": [],
   "source": [
    "def OR(input1,input2):\n",
    "  \n",
    "    q = QuantumRegister(3)\n",
    "    c = ClassicalRegister(1)\n",
    "    qc = QuantumCircuit(q, c)\n",
    "       \n",
    "    # Define os bits no circuito\n",
    "    if input1=='1':\n",
    "        qc.x( q[0] )\n",
    "    if input2=='1':\n",
    "        qc.x( q[1] )\n",
    "        \n",
    "    # Implementação do OR\n",
    "    qc.x(0)\n",
    "    qc.x(1)\n",
    "    qc.ccx(0, 1, 2)\n",
    "    qc.x(2)\n",
    "    \n",
    "    # Medição e Simulação \n",
    "    qc.measure(q[2],c[0])\n",
    "    backend = Aer.get_backend('qasm_simulator')\n",
    "    job = execute(qc,backend,shots=1,memory=True)\n",
    "    output = job.result().get_memory()[0]\n",
    "    \n",
    "    return output"
   ]
  },
  {
   "cell_type": "markdown",
   "metadata": {},
   "source": [
    "TESTES"
   ]
  },
  {
   "cell_type": "code",
   "execution_count": 10,
   "metadata": {},
   "outputs": [
    {
     "name": "stdout",
     "output_type": "stream",
     "text": [
      "\n",
      "Resultados para NOT gate\n",
      "    Entrada 0 resulta em 1\n",
      "    Entrada 1 resulta em 0\n",
      "\n",
      "Resultados para XOR gate\n",
      "    Entradas 0 0 resultam em 0\n",
      "    Entradas 0 1 resultam em 1\n",
      "    Entradas 1 0 resultam em 1\n",
      "    Entradas 1 1 resultam em 0\n",
      "\n",
      "Resultados para AND gate\n",
      "    Entradas 0 0 resultam em 0\n",
      "    Entradas 0 1 resultam em 0\n",
      "    Entradas 1 0 resultam em 0\n",
      "    Entradas 1 1 resultam em 1\n",
      "\n",
      "Resultados para NAND gate\n",
      "    Entradas 0 0 resultam em 1\n",
      "    Entradas 0 1 resultam em 1\n",
      "    Entradas 1 0 resultam em 1\n",
      "    Entradas 1 1 resultam em 0\n",
      "\n",
      "Resultadsos para OR gate\n",
      "    Entradas 0 0 resultam em 0\n",
      "    Entradas 0 1 resultam em 1\n",
      "    Entradas 1 0 resultam em 1\n",
      "    Entradas 1 1 resultam em 1\n"
     ]
    }
   ],
   "source": [
    "print('\\nResultados para NOT gate')\n",
    "for input in ['0','1']:\n",
    "    print('    Entrada',input,'resulta em',NOT(input))\n",
    "    \n",
    "print('\\nResultados para XOR gate')\n",
    "for input1 in ['0','1']:\n",
    "    for input2 in ['0','1']:\n",
    "        print('    Entradas',input1,input2,'resultam em',XOR(input1,input2))\n",
    "\n",
    "print('\\nResultados para AND gate')\n",
    "for input1 in ['0','1']:\n",
    "    for input2 in ['0','1']:\n",
    "        print('    Entradas',input1,input2,'resultam em',AND(input1,input2))\n",
    "\n",
    "print('\\nResultados para NAND gate')\n",
    "for input1 in ['0','1']:\n",
    "    for input2 in ['0','1']:\n",
    "        print('    Entradas',input1,input2,'resultam em',NAND(input1,input2))\n",
    "\n",
    "print('\\nResultadsos para OR gate')\n",
    "for input1 in ['0','1']:\n",
    "    for input2 in ['0','1']:\n",
    "        print('    Entradas',input1,input2,'resultam em',OR(input1,input2))\n",
    "\n"
   ]
  },
  {
   "cell_type": "markdown",
   "metadata": {},
   "source": [
    "@misc{ Qiskit-Textbook,\n",
    "       author = {Abraham Asfaw and Luciano Bello and Yael Ben-Haim and Sergey Bravyi and Lauren Capelluto and Almudena Carrera Vazquez and Jack Ceroni and\n",
    "       Jay Gambetta and Shelly Garion and Leron Gil and Salvador De La Puente Gonzalez and David McKay and Zlatko Minev and Paul Nation and Anna Phan\n",
    "               and Arthur Rattew and Javad Shabani and John Smolin and Kristan Temme and Madeleine Tod and James Wootton.},\n",
    "       title = {Learn Quantum Computation Using Qiskit},\n",
    "       year = {2019},\n",
    "       url = {http://community.qiskit.org/textbook},\n",
    "}"
   ]
  },
  {
   "cell_type": "code",
   "execution_count": null,
   "metadata": {},
   "outputs": [],
   "source": []
  }
 ],
 "metadata": {
  "kernelspec": {
   "display_name": "Python (Qiskitenv)",
   "language": "python",
   "name": "qiskitenv"
  },
  "language_info": {
   "codemirror_mode": {
    "name": "ipython",
    "version": 3
   },
   "file_extension": ".py",
   "mimetype": "text/x-python",
   "name": "python",
   "nbconvert_exporter": "python",
   "pygments_lexer": "ipython3",
   "version": "3.7.4"
  }
 },
 "nbformat": 4,
 "nbformat_minor": 2
}
