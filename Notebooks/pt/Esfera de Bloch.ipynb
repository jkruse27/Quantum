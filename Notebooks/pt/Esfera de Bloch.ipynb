{
 "cells": [
  {
   "cell_type": "markdown",
   "metadata": {},
   "source": [
    "# Esfera de Bloch\n",
    "\n",
    "Como sabemos, o estado de um qubit é dado por $ \\left| \\psi \\right\\rangle = \\alpha \\left| 0 \\right\\rangle+\\beta\\left| 1\\right\\rangle $, onde $\\alpha$ e $\\beta$ são variáveis complexas (ou seja, podem ser representadas por z = a + bi). Analisando essa expressão, vemos que na verdade o estado quântico depende de 4 variáveis (pois $\\alpha$ e $\\beta$ são representados por 2 variáveis cada por serem complexos). Desse modo, como é possível representar o completamente o estado de um qubit sobre a superfície de uma esfera unitária considerando que esta é perfeitamente representada com apenas 2 váriáveis ($\\theta$ e $\\phi$)? Isso é o que será visto neste notebook.\n",
    "<img src=\"../Resources/bloch.png\" />\n",
    "<font size=\"1\">https://en.wikipedia.org/wiki/Bloch_sphere</font>"
   ]
  },
  {
   "cell_type": "markdown",
   "metadata": {},
   "source": [
    "# Um pouco sobre complexos\n",
    "Quando estamos tratando de números complexos, eles podem ser representados de diversas formas. A forma apresentada anteriormente, z = a+bi é a representação em coordenadas cartesianas, porém o mesmo número pode ser representado na sua forma polar, $r_{z}$(cos($\\theta$) + isen($\\theta$)), como mostrado na figura abaixo:\n",
    "<img src=\"../Resources/Complexos.png\" />\n",
    "<font size=\"1\">https://pt.wikipedia.org/wiki/N%C3%BAmero_complexo</font>\n",
    "onde $r_z$ é o módulo de z ($\\sqrt{a^2+b^2}$), o que resulta em um número real, e $\\theta$ é o ângulo do vetor com o eixo x ($\\arctan \\frac{b}{a}$). A partir da representação polar, chegamos facilmente em uma terceira representação utilizando a propriedade <br>$$e^{i\\theta} = cos(\\theta) + isen(\\theta)$$<br>\n",
    "Usando essa propriedade, temos que $z = r_ze^{i\\theta}$<br>\n",
    "É importante saber também que o conjugado de um número complexo z = a + bi é dado por $z^* = a - bi$, ou, na representação exponencial $$e^{i\\theta*} = (cos(\\theta)+isen(\\theta))^* = cos(\\theta)-isen(\\theta) = e^{-i\\theta}$$\n",
    "Também é importante saber que, para $z_1$ e $z_2$ números complexos, $$(z_1z_2)^* = z_1^*z_2^*$$\n",
    "Outra propriedade dos números complexos que pode ser importante é que |z|^2 = $zz^*$ (onde $z^*$ é o conjugado de z).<br>\n",
    "Saber dessas representações e propriedades é o suficiente para o que vamos fazer.\n",
    "\n",
    "# Derivação Matemática\n",
    "\n",
    "Para começar temos o estado inicial do qubit, dado por:<br>\n",
    "    $$ \\left| \\psi \\right\\rangle = \\alpha \\left| 0 \\right\\rangle+\\beta\\left| 1\\right\\rangle $$<br>\n",
    "Como sabemos, tanto $\\alpha$ quanto $\\beta$ são números complexos, logo eles podem ser representados por:<br>\n",
    "$$\\alpha\\, = \\,a \\,+ \\,bi\\;\\; e\\;\\; \\beta\\, = \\,c \\,+ \\,di$$\n",
    "Mudando a representação dos números complexos para sua forma exponencial, nós chegamos em:\n",
    "$$ \\left| \\psi \\right\\rangle = r_\\alpha e^{i\\theta_\\alpha} \\left| 0 \\right\\rangle+r_\\beta e^{i\\theta_\\beta}\\left| 1\\right\\rangle $$\n",
    "Estados quânticos possuem uma propriedade chamada de invariância de fase global, que diz que dois estados que diferem apenas por uma fase global (multiplicação dele por um termo de forma $e^{i\\gamma}$) são indistinguíveis fisica e experimentalmente (mais sobre isso no apêndice). Com isso, podemos sem perda de informação quanto ao estado multiplicá-lo por $e^{-i\\theta_\\alpha}$, resultando em:\n",
    "$$ \\left| \\psi \\right\\rangle = e^{-i\\theta_\\alpha}\\left| \\psi \\right\\rangle = e^{-i\\theta_\\alpha}r_\\alpha e^{i\\theta_\\alpha} \\left| 0 \\right\\rangle+ e^{-i\\theta_\\alpha}r_\\beta e^{i\\theta_\\beta}\\left| 1\\right\\rangle = r_\\alpha \\left| 0 \\right\\rangle+ r_\\beta e^{i(\\theta_\\beta -\\theta_\\alpha)}\\left| 1\\right\\rangle$$ e chamando $\\theta_\\beta - \\theta_\\alpha$ de $\\theta_1$, chegamos em \n",
    "$$\\left| \\psi \\right\\rangle = r_\\alpha \\left| 0 \\right\\rangle+r_\\beta e^{i\\theta_1}\\left| 1\\right\\rangle $$\n",
    "Com isso, podemos ver que já reduzimos o número de variáveis para 3. Seguindo o desenvolvimento, nós sabemos que a soma das probabilidades do estado colapsar para $ \\left| 0 \\right\\rangle $ e para $ \\left| 1 \\right\\rangle $ deve ser 1 (pois ou ele colapsa para um ou para o outro, não há outra opção). Vale relembrar que a probabilidade do estado colapsar para $ \\left| 0 \\right\\rangle $ ou para $ \\left| 1 \\right\\rangle $ é dada por $P = |c|^2$, na qual c é o coeficiente que precede o respectivo estado. Com isso, temos que \n",
    "$$|\\alpha|^2 + |\\beta|^2 = 1$$\n",
    "ou nessa nova equação que encontramos:\n",
    "$$|r_\\alpha|^2 + |r_\\beta e^{i\\theta_1}|^2 = 1$$\n",
    "Como $r_\\alpha$ é um número real, temos que $$|r_\\alpha|^2 = r_{\\alpha}^2$$. Nós temos também que $|r_\\beta e^{i\\theta_1}|^2$ pode ser representado por x+iy, já que ele é um número complexo. Com isso, $$|x+iy|^2 = (\\sqrt(x^2+y^2))^2 = x^2+y^2$$\n",
    "Logo, temos que $$|r_\\alpha|^2 + |r_\\beta e^{i\\theta_1}|^2 = r_\\alpha^2 + x^2 + y^2 = 1$$\n",
    "que é exatamente a definição de um círculo de raio unitário (x^2+y^2+z^2=1). Com isso, podemos representá-lo utilizando coordenadas polares:\n",
    "$$x = rsen(\\theta)cos(\\phi)$$\n",
    "$$y = rsen(\\theta)sen(\\phi)$$\n",
    "$$r_\\alpha = rcos(\\theta) $$\n",
    "e como r=1, \n",
    "$$x = sen(\\theta)cos(\\phi)$$\n",
    "$$y = sen(\\theta)sen(\\phi)$$\n",
    "$$r_\\alpha = cos(\\theta) $$\n",
    "\n",
    "Substituindo essas variáveis por seus valores na equação chegamos em:\n",
    "$$\\left| \\psi \\right\\rangle = cos(\\theta) \\left| 0 \\right\\rangle+(sen(\\theta)cos(\\phi)+isen(\\theta)sen(\\phi))\\left| 1\\right\\rangle $$\n",
    "Desenvolvendo mais e retornando o segundo termo a forma exponencial chegamos em:\n",
    "$$\\left| \\psi \\right\\rangle = cos(\\theta) \\left| 0 \\right\\rangle+(sen(\\theta)cos(\\phi)+isen(\\theta)sen(\\phi))\\left| 1\\right\\rangle = cos(\\theta) \\left| 0 \\right\\rangle+(sen(\\theta)(cos(\\phi)+isen(\\phi)))\\left| 1\\right\\rangle = cos(\\theta) \\left| 0 \\right\\rangle+sen(\\theta)e^{i\\phi}\\left| 1\\right\\rangle$$\n",
    "\n",
    "Por fim, a última coisa que precisamos analisar é que, em uma esfera $\\theta$ varia entre $0\\leq\\theta\\leq\\pi$ para varrer toda a esfera, porém em nossa equação, é possível verificar que para $\\theta=0$, temos como estado resultante $\\left| 0 \\right\\rangle$, enquanto que para $\\theta=\\frac{\\pi}{2}$ temos como estado resultante $\\left| 1 \\right\\rangle$. Isso sugere que $0\\leq\\theta\\leq\\frac{\\pi}{2}$ varre toda a esfera. Podemos mostrar isso vendo que para o outro hemisfério da esfera temos:\n",
    "$$\\left| \\psi \\right\\rangle = cos(\\pi+\\theta)\\left| 0 \\right\\rangle + sen(\\pi+\\theta)e^{i\\phi}\\left| 1 \\right\\rangle = -cos(\\theta)\\left| 0 \\right\\rangle + sen(\\theta)e^{i\\pi}e^{i\\phi}\\left| 1 \\right\\rangle = -cos(\\theta)\\left| 0 \\right\\rangle - sen(\\theta)e^{i\\phi}\\left| 1 \\right\\rangle = -\\left| \\psi \\right\\rangle$$\n",
    "Com isso, vemos que para $\\frac{\\pi}{2}\\leq\\theta\\leq\\pi$, temos o mesmo estado $\\psi$ com uma fase global -1, ou seja, podemos considerar apenas os valores $0\\leq\\theta\\leq\\frac{\\pi}{2}$ para representar o estado. Para resolver esse problema, basta substituir $\\theta$ por $\\frac{\\theta}{2}$, chegando por fim na equação da esfera de Bloch dada por:\n",
    "$$\\left| \\psi \\right\\rangle = cos(\\frac{\\theta}{2}) \\left| 0 \\right\\rangle+sen(\\frac{\\theta}{2})e^{i\\phi}\\left| 1\\right\\rangle$$\n",
    "em que $0\\leq\\theta\\leq\\pi$ e $0\\leq\\phi\\leq2\\pi$. <br> Dessa forma, podemos ver que é possível representar o estado de um qubit que inicialmente dependia de 4 variáveis em  apenas 2, como na superfície de uma esfera unitária."
   ]
  },
  {
   "cell_type": "markdown",
   "metadata": {},
   "source": [
    "# Apêndice\n",
    "\n",
    "## Invariância por Fase Global\n",
    "\n",
    "Como vimos na descrição acima, temos que um estado quântico possui algo chamado invariância por fase global, ou seja, é impossível distinguir física ou experimentalmente entre 2 estados que diferem apenas por uma fase global. Vamos ver agora em mais detalhe o porquê disso. Inicialmente, vamos definir o que seria a aplicação de uma fase global. Nesse nosso caso de estudo, a aplicação de uma fase global corresponderia a multiplicar o nosso estado $\\psi$ por uma fase, ou seja, $e^{i\\theta}$, resultando em \n",
    "$$e^{i\\theta} \\left| \\psi \\right\\rangle = e^{i\\theta}\\alpha \\left| 0 \\right\\rangle+e^{i\\theta}\\beta\\left| 1\\right\\rangle$$\n",
    "Como a forma de distinguir os estados está relacionada as probabilidades do estado colapsar para $\\left| 0 \\right\\rangle$ ou para $\\left| 1 \\right\\rangle$ na medição, quando dois estados possuem as mesmas probabilidades são indistinguíveis. Então para provar que há uma invariância por fase global, basta provar que as probabilidades dos estados $ \\left| \\psi \\right\\rangle$ e $e^{i\\theta} \\left| \\psi \\right\\rangle$ são iguais. \n",
    "Para isso, sabemos que a probabilidade do estado colapsar para $\\left| 0 \\right\\rangle$ no primeiro estado é $$|\\alpha|^2$$ enquanto que no segundo caso é $$|e^{i\\theta}\\alpha|^2$$ Analisando esse segundo caso, como sabemos que $e^{i\\theta}\\alpha$ é um número complexo, sabemos que $$|e^{i\\theta}\\alpha|^2 = ((e^{i\\theta}\\alpha)(e^{i\\theta}\\alpha)^*)^2 = ((e^{i\\theta}\\alpha)(e^{i\\theta*}\\alpha^*))^2 = ((e^{i\\theta}\\alpha)(e^{-i\\theta}\\alpha^*))^2 = ((e^{i\\theta}e^{-i\\theta})(\\alpha\\alpha ^*))^2 = (\\alpha\\alpha ^*)^2 = |\\alpha|^2$$\n",
    "Com isso, nós demonstramos que estados cuja diferença é apenas uma mudança na fase global são indistinguíveis (o mesmo não é verdade para mudanças na fase local) e com isso, derivamos a invariância da fase global."
   ]
  },
  {
   "cell_type": "code",
   "execution_count": null,
   "metadata": {},
   "outputs": [],
   "source": []
  }
 ],
 "metadata": {
  "kernelspec": {
   "display_name": "Python 3",
   "language": "python",
   "name": "python3"
  },
  "language_info": {
   "codemirror_mode": {
    "name": "ipython",
    "version": 3
   },
   "file_extension": ".py",
   "mimetype": "text/x-python",
   "name": "python",
   "nbconvert_exporter": "python",
   "pygments_lexer": "ipython3",
   "version": "3.7.8"
  }
 },
 "nbformat": 4,
 "nbformat_minor": 4
}
