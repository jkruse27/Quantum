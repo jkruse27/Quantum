{
 "cells": [
  {
   "cell_type": "code",
   "execution_count": 55,
   "metadata": {},
   "outputs": [],
   "source": [
    "from qiskit import *\n",
    "from qiskit.visualization import plot_histogram\n",
    "\n",
    "n = 5"
   ]
  },
  {
   "cell_type": "code",
   "execution_count": 66,
   "metadata": {},
   "outputs": [],
   "source": [
    "# Funcao que completa a string com 0s para que tenha o tamanho exigido\n",
    "def completeDigits(a, b):\n",
    "    x = n - len(a)\n",
    "    k = x*\"0\"\n",
    "    a = k + a\n",
    "    x = n - len(b)\n",
    "    k = x*\"0\"\n",
    "    b = k + b\n",
    "    return a, b"
   ]
  },
  {
   "cell_type": "code",
   "execution_count": 67,
   "metadata": {},
   "outputs": [],
   "source": [
    "# Funcao que recebe 2 strings com um numero binario de n digitos e retorna um \n",
    "# circuito quantico com eles mapeados\n",
    "def addNumbers(a, b):\n",
    "    a, b = completeDigits(a, b)\n",
    "    qc = QuantumCircuit(4*n, n+1)\n",
    "    for i in range(len(a)):\n",
    "        if(a[i] == '1'):\n",
    "            qc.x(n - 1 - i)\n",
    "    \n",
    "    for i in range(len(b)):\n",
    "        if(b[i] == '1'):\n",
    "            qc.x(2*n - 1 - i)\n",
    "    return qc"
   ]
  },
  {
   "cell_type": "code",
   "execution_count": 68,
   "metadata": {},
   "outputs": [
    {
     "data": {
      "text/plain": [
       "<qiskit.circuit.measure.Measure at 0x7f4378560910>"
      ]
     },
     "execution_count": 68,
     "metadata": {},
     "output_type": "execute_result"
    }
   ],
   "source": [
    "# Inicializa os numeros\n",
    "# qubits de 0 to 3 = primeiro numero\n",
    "# qubits de 4 to 7 = segundo numero\n",
    "qc = addNumbers(\"1011\", \"1110\")\n",
    "\n",
    "qc.barrier()\n",
    "\n",
    "# Aplica a operacao de soma de 2 numeros\n",
    "for i in range(n):\n",
    "    qc.cx(i, i+(2*n))\n",
    "    qc.cx(i+n, i+(2*n))\n",
    "    qc.ccx(i, i+n, i+(3*n))\n",
    "    if(i != 0):\n",
    "        qc.ccx(i+n, i+((3*n)- 1), i+(3*n))\n",
    "        qc.ccx(i, i+((3*n)- 1), i+(3*n))\n",
    "        qc.cx(i+((3*n)- 1), i+(2*n))\n",
    "\n",
    "qc.barrier()\n",
    "\n",
    "for i in range(n):\n",
    "    qc.measure(i + (2*n) ,i)\n",
    "qc.measure(4*n - 1, n)\n",
    "\n",
    "#qc.draw()"
   ]
  },
  {
   "cell_type": "code",
   "execution_count": 58,
   "metadata": {},
   "outputs": [
    {
     "name": "stdout",
     "output_type": "stream",
     "text": [
      "101001\n"
     ]
    },
    {
     "data": {
      "image/png": "[encoded data removed]",
      "text/plain": [
       "<Figure size 504x360 with 1 Axes>"
      ]
     },
     "execution_count": 58,
     "metadata": {},
     "output_type": "execute_result"
    }
   ],
   "source": [
    "backend = Aer.get_backend(\"qasm_simulator\")\n",
    "\n",
    "a = execute(qc, backend).result().get_counts()\n",
    "\n",
    "print(\"\".join(a.keys()))\n",
    "plot_histogram(a)\n"
   ]
  },
  {
   "cell_type": "code",
   "execution_count": null,
   "metadata": {},
   "outputs": [],
   "source": []
  },
  {
   "cell_type": "code",
   "execution_count": null,
   "metadata": {},
   "outputs": [],
   "source": []
  }
 ],
 "metadata": {
  "kernelspec": {
   "display_name": "Python (Qiskitenv)",
   "language": "python",
   "name": "qiskitenv"
  },
  "language_info": {
   "codemirror_mode": {
    "name": "ipython",
    "version": 3
   },
   "file_extension": ".py",
   "mimetype": "text/x-python",
   "name": "python",
   "nbconvert_exporter": "python",
   "pygments_lexer": "ipython3",
   "version": "3.7.4"
  }
 },
 "nbformat": 4,
 "nbformat_minor": 2
}
