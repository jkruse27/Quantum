{
 "cells": [
  {
   "cell_type": "markdown",
   "metadata": {},
   "source": [
    "# Derivação Matemática do Teleporte Quântico"
   ]
  },
  {
   "cell_type": "markdown",
   "metadata": {},
   "source": [
    "Nesse notebook será demonstrado matematicamente o algoritmo do teleporte quântico."
   ]
  },
  {
   "cell_type": "markdown",
   "metadata": {},
   "source": [
    "### Estados Iniciais"
   ]
  },
  {
   "cell_type": "markdown",
   "metadata": {},
   "source": [
    "Inicialmente temos 3 qubits: $\\psi$ , $q_{0}$ e  $q_{1}$, sendo que os dois primeiros estão com Ana e o último está com Bob. Nosso objetivo é enviar o estado quântico de $\\psi$ para Bob (lembrando que não é possível copiar o estado de um qubit). No momento inicial, temos: $\\psi$ = $\\alpha \\left| 0 \\right\\rangle $ + $\\beta \\left| 1 \\right\\rangle $, $q_{0}$ = $ \\left| 0 \\right\\rangle $ e $q_{1}$ = $ \\left| 0 \\right\\rangle $."
   ]
  },
  {
   "cell_type": "markdown",
   "metadata": {},
   "source": [
    "### Primeira Etapa"
   ]
  },
  {
   "cell_type": "markdown",
   "metadata": {},
   "source": [
    "Para começar, devemos aplicar um Hadamard ao $q_{0}$. Isso significa que devemos multiplicar $q_{0}$ por H. Sabemos que a matriz que representa a porta Hadamard é dada por H = $\\frac{1}{\\sqrt{2}}\\begin{bmatrix}1 & 1 \\\\ 1 & -1\\end{bmatrix}$. Com isso, temos que $Hq_{0}$ = $\\frac{1}{\\sqrt{2}}\\begin{bmatrix}1 \\\\ 1\\end{bmatrix}$ = $q_{0}$. A seguir, o algoritmo manda que realizemos um cnot com $q_{0}$ como controle e $q_{1}$ como alvo. O estado conjunto entre $q_{0}$ e $q_{1}$ é dado pelo seu produto tensorial ($q_{0}\\bigotimes q_{1}$) o que resulta no estado E = $\\begin{bmatrix}1 \\\\ 0 \\\\ 1 \\\\ 0\\end{bmatrix}$. Além disso, temos que a operação de CNOT pode ser representada pela matriz <br>\n",
    "CX = $\\begin{bmatrix}1 & 0 & 0 & 0\\\\ 0 & 1 & 0 & 0 \\\\ 0 & 0 & 0 & 1 \\\\ 0 & 0 & 1 & 0\\end{bmatrix}$. Temos que a aplicação do CNOT se da através da multiplicação das matrizes, de forma que o estado resultante ($E_{R}$) é <br>CXE = $\\frac{1}{\\sqrt{2}}\\begin{bmatrix}1 \\\\ 0 \\\\ 0 \\\\ 1\\end{bmatrix}$ = $\\frac{\\left| 00 \\right\\rangle + \\left| 11 \\right\\rangle }{\\sqrt{2}}$ =  $E_{R}$. Esse estado resultante é conhecido como Par de Bell ou Estado de Bell."
   ]
  },
  {
   "cell_type": "markdown",
   "metadata": {},
   "source": [
    "### Segunda Etapa"
   ]
  },
  {
   "cell_type": "markdown",
   "metadata": {},
   "source": [
    "A seguir, precisamos realizar uma operação de cnot com $\\psi$ como controle e $q_{0}$ como alvo. Para isso, precisamos ver qual é o estado atual dos multiplos qubits com $\\psi$. Para isso, fazemos novamente $\\psi \\bigotimes E_{R}$, o que resulta em um novo $E_{R}$ = $\\frac{1}{\\sqrt{2}}\\begin{bmatrix}\\alpha \\\\ 0 \\\\ 0 \\\\ \\alpha \\\\ \\beta \\\\ 0 \\\\ 0 \\\\ \\beta \\end{bmatrix}$ = $\\frac{\\alpha (\\left| 000 \\right\\rangle + \\left| 011 \\right\\rangle) + \\beta(\\left| 100 \\right\\rangle + \\left| 111 \\right\\rangle)}{\\sqrt{2}}$. Com esse estado, iremos aplicar a operação de cnot entre o primeiro ($\\psi$) e o segundo ($q_{0}$) qubits. Para não interferirmos diretamente em $q_{1}$, nós iremos aplicar a operação CX entre os dois primeiros qubits e a identidade em $q_{1}$. Para fazer isso, realizamos o produto tensorial entre CX e I (I é o segundo fator pois se aplicará ao último qubit). Com isso, temos $CX \\bigotimes I$ = $\\begin{bmatrix}1 & 0 & 0 & 0 & 0 & 0 & 0 & 0 \\\\ 0 & 1 & 0 & 0 & 0 & 0 & 0 & 0 \\\\ 0 & 0 & 1 & 0 & 0 & 0 & 0 & 0 \\\\ 0 & 0 & 0 & 1 & 0 & 0 & 0 & 0 \\\\ 0 & 0 & 0 & 0 & 0 & 0 & 1 & 0 \\\\ 0 & 0 & 0 & 0 & 0 & 0 & 0 & 1 \\\\ 0 & 0 & 0 & 0 & 1 & 0 & 0 & 0 \\\\ 0 & 0 & 0 & 0 & 0 & 1 & 0 & 0 \\\\\\end{bmatrix}$. Dessa maneira, ao multiplicarmos $(CX \\bigotimes I)E_{R}$, temos que o novo estado resultante é $E_{R}$ = $\\begin{bmatrix}\\alpha \\\\ 0 \\\\ 0 \\\\ \\alpha \\\\ 0 \\\\ \\beta \\\\ \\beta \\\\ 0 \\end{bmatrix}$ = $\\frac{\\alpha (\\left| 000 \\right\\rangle + \\left| 011 \\right\\rangle) + \\beta(\\left| 101 \\right\\rangle + \\left| 110 \\right\\rangle)}{\\sqrt{2}}$.<br> Após isso, temos que aplicar um Hadamard em $\\psi$. Novamente, como ele será aplicado somente em $\\psi$, precisamos aplicar a matriz $H \\bigotimes I \\bigotimes I$ = $\\frac{1}{\\sqrt{2}}\\begin{bmatrix} 1 & 0 & 0 & 0 & 1 & 0 & 0 & 0 \\\\ 0 & 1 & 0 & 0 & 0 & 1 & 0 & 0 \\\\ 0 & 0 & 1 & 0 & 0 & 0 & 1 & 0 \\\\ 0 & 0 & 0 & 1 & 0 & 0 & 0 & 1 \\\\ 1 & 0 & 0 & 0 & -1 & 0 & 0 & 0 \\\\ 0 & 1 & 0 & 0 & 0 & -1 & 0 & 0 \\\\ 0 & 0 & 1 & 0 & 0 & 0 & -1 & 0 \\\\ 0 & 0 & 0 & 1 & 0 & 0 & 0 & -1 \\end{bmatrix}$ no estado atual. Assim, temos que $(H \\bigotimes I \\bigotimes I)E_{R}$ = $\\frac{1}{2}\\begin{bmatrix}\\alpha \\\\ \\beta \\\\ \\beta \\\\ \\alpha \\\\ \\alpha \\\\ -\\beta \\\\ -\\beta \\\\ \\alpha \\end{bmatrix}$."
   ]
  },
  {
   "cell_type": "markdown",
   "metadata": {},
   "source": [
    "### Terceira Etapa"
   ]
  },
  {
   "cell_type": "markdown",
   "metadata": {},
   "source": [
    "Perceba que o estado atual dos qubits $E_{R}$ pode ser escrito como <br>$E_{R}$ = $\\frac{\\alpha\\left| 000 \\right\\rangle + \\alpha\\left| 011 \\right\\rangle + \\alpha\\left| 100 \\right\\rangle + \\alpha\\left| 111 \\right\\rangle + \\beta\\left| 001 \\right\\rangle + \\beta\\left| 011 \\right\\rangle - \\beta\\left| 101 \\right\\rangle - \\beta\\left| 110 \\right\\rangle}{2}$. Separando os valores dos dois primeiros qubits ($\\psi$ e $q_{0}$), e agrupando-os, temos como resultado $E_{R}$ = $\\frac{\\left| 00 \\right\\rangle (\\alpha\\left| 0 \\right\\rangle + \\beta\\left| 1 \\right\\rangle) + \\left| 01 \\right\\rangle (\\alpha\\left| 1 \\right\\rangle + \\beta\\left| 0 \\right\\rangle) + \\left| 10 \\right\\rangle (\\alpha\\left| 0 \\right\\rangle - \\beta\\left| 1 \\right\\rangle) + \\left| 11 \\right\\rangle (\\alpha\\left| 1 \\right\\rangle - \\beta\\left| 0 \\right\\rangle)}{2}$. Realizando a medição dos dois primeiros qubits podemos ver em qual dos casos caimos, e podemos ver como proceder a partir dai. As possibilidades são apresentadas abaixo."
   ]
  },
  {
   "cell_type": "markdown",
   "metadata": {},
   "source": [
    "#### Caso 1 - |00>"
   ]
  },
  {
   "cell_type": "markdown",
   "metadata": {},
   "source": [
    "Nesse caso, temos que o bit $q_{1}$ é dado por $\\alpha\\left| 0 \\right\\rangle + \\beta\\left| 1 \\right\\rangle$, logo ele já tomou o valor original de $\\psi$ em $q_{1}$ e concluimos o objetivo.<br> Resultado Final: $\\psi$ --> $q_{1}$"
   ]
  },
  {
   "cell_type": "markdown",
   "metadata": {},
   "source": [
    "#### Caso 2 - |01>"
   ]
  },
  {
   "cell_type": "markdown",
   "metadata": {},
   "source": [
    "Nesse caso, temos que o bit $q_{1}$ é dado por $\\alpha\\left| 1 \\right\\rangle + \\beta\\left| 0 \\right\\rangle$. Se olharmos com atenção, esse é o valor inverso de $\\psi$, logo, ao aplicarmos uma porta NOT (X = $\\begin{bmatrix} 0 & 1 \\\\ 1 & 0 \\end{bmatrix}$) que inverterá os valores de $\\left| 0 \\right\\rangle$ e $\\left| 1 \\right\\rangle$ , terminamos com o valor original de $\\psi$ em $q_{1}$, que era nosso objetivo.<br> Resultado Final: $\\psi$ -->  X$q_{1}$"
   ]
  },
  {
   "cell_type": "markdown",
   "metadata": {},
   "source": [
    "#### Caso 3 - |10>"
   ]
  },
  {
   "cell_type": "markdown",
   "metadata": {},
   "source": [
    "Nesse caso, temos que o bit $q_{1}$ é dado por $\\alpha\\left| 0 \\right\\rangle - \\beta\\left| 1 \\right\\rangle$. Se olharmos com atenção, a única diferença desse valor para $\\psi$ é que o coeficiente de $\\alpha\\left| 1 \\right\\rangle$ está negativo, logo, ao aplicarmos uma porta Z (Z = $\\begin{bmatrix} 1 & 0 \\\\ 0 & -1 \\end{bmatrix}$), terminamos com o valor original de $\\psi$ em $q_{1}$, que era nosso objetivo. <br> Resultado Final: $\\psi$ -->  Z$q_{1}$"
   ]
  },
  {
   "cell_type": "markdown",
   "metadata": {},
   "source": [
    "#### Caso 4 - |11>"
   ]
  },
  {
   "cell_type": "markdown",
   "metadata": {},
   "source": [
    "Por fim, neste último caso temos que o bit $q_{1}$ é dado por $\\alpha\\left| 1 \\right\\rangle - \\beta\\left| 0 \\right\\rangle$. Ao olharmos com atenção, vemos que não apenas os valores de $\\left| 0 \\right\\rangle$ e $\\left| 1 \\right\\rangle$ estão invertidos como também o valor para $\\left| 1 \\right\\rangle$ está negativo em relação ao valor original de $\\psi$. Com isso, precisamos inverter primeiramente os valores de $\\left| 0 \\right\\rangle$ e $\\left| 1 \\right\\rangle$ utilizado um NOT, e a seguir aplicamos um Z para inverter o sinal de $\\beta$. Com isso acabamos com o valor origial de $\\psi$ em $q_{1}$, que era nosso objetivo. <br> Resultado Final: $\\psi$ --> ZX$q_{1}$"
   ]
  },
  {
   "cell_type": "markdown",
   "metadata": {},
   "source": [
    "## Conclusão"
   ]
  },
  {
   "cell_type": "markdown",
   "metadata": {},
   "source": [
    "    Com isso, podemos ver a derivação matemática do algoritmo utilizado para transferir um estado quântico de um qubit para outro. Vale ressaltar que nesta última etapa de verificação, é realizada a medição dos valores presentes em $\\psi$ e $q_{0}$ e esse valor é repassado de forma clássica para o programa resolver em qual dos casos ele se encontra para decidir se é necessária a realização de mais alguma operação para obtermos o resultado final. Vale também mencionar que não copiamos o estado de um qubit para outro pois o valor original em $\\psi$ foi perdido."
   ]
  },
  {
   "cell_type": "code",
   "execution_count": null,
   "metadata": {},
   "outputs": [],
   "source": []
  }
 ],
 "metadata": {
  "kernelspec": {
   "display_name": "Python (Qiskitenv)",
   "language": "python",
   "name": "qiskitenv"
  },
  "language_info": {
   "codemirror_mode": {
    "name": "ipython",
    "version": 3
   },
   "file_extension": ".py",
   "mimetype": "text/x-python",
   "name": "python",
   "nbconvert_exporter": "python",
   "pygments_lexer": "ipython3",
   "version": "3.7.4"
  }
 },
 "nbformat": 4,
 "nbformat_minor": 2
}
