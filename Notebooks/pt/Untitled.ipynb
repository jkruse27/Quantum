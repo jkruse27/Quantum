{
 "cells": [
  {
   "cell_type": "markdown",
   "metadata": {},
   "source": [
    "# Resolução Dos Exercícios de Problems - Set 2 do Qiskit Texbook."
   ]
  },
  {
   "cell_type": "markdown",
   "metadata": {},
   "source": [
    "### Exercício 1.1 "
   ]
  },
  {
   "cell_type": "markdown",
   "metadata": {},
   "source": [
    "Demonstre que H = $\\frac{X + Z}{\\sqrt{2}}$."
   ]
  },
  {
   "cell_type": "markdown",
   "metadata": {},
   "source": [
    "Como X = $\\begin{bmatrix}0 & 1\\\\1 & 0\\end{bmatrix}$,  Z = $\\begin{bmatrix}1 & 0\\\\0 & -1\\end{bmatrix}$ e H = $\\frac{1}{\\sqrt{2}}\\begin{bmatrix}1 & 1\\\\1 & -1\\end{bmatrix}$,  temos que X + Z = $\\begin{bmatrix}1 & 1\\\\1 & -1\\end{bmatrix}$ e, ao multiplicarmos por $\\frac{1}{\\sqrt{2}}$ obtemos o resultado desejado de $\\frac{X + Z}{\\sqrt{2}}$ = H."
   ]
  },
  {
   "cell_type": "markdown",
   "metadata": {},
   "source": [
    "### Exercício 1.2"
   ]
  },
  {
   "cell_type": "markdown",
   "metadata": {},
   "source": [
    "Demonstre que H $\\equiv \\exp{(\\frac{i\\pi(X +Z)}{2\\sqrt{2}})}$ (equivalentes a menos de uma fase global, ou seja fisicamente equivalentes)."
   ]
  },
  {
   "cell_type": "markdown",
   "metadata": {},
   "source": [
    "Como sabemos que H = $\\frac{X + Z}{\\sqrt{2}}$, isso se torna equivalente a provar que H $\\equiv \\exp{(\\frac{i\\pi H}{2})}$. Isso pode ser demonstrado se conseguirmos mostrar que M $\\equiv \\exp{(\\frac{i\\pi M}{2})}$ para qualquer matriz M com eigenvalues 1 e -1 e que tais matrizes satisfazem unicamente $M^2$ = I"
   ]
  },
  {
   "cell_type": "markdown",
   "metadata": {},
   "source": [
    "### Exercício 2"
   ]
  },
  {
   "cell_type": "code",
   "execution_count": 3,
   "metadata": {},
   "outputs": [],
   "source": [
    "from qiskit import *\n",
    "from qiskit.tools.visualization import plot_histogram\n",
    "import numpy as np\n"
   ]
  },
  {
   "cell_type": "code",
   "execution_count": null,
   "metadata": {},
   "outputs": [],
   "source": []
  },
  {
   "cell_type": "markdown",
   "metadata": {},
   "source": [
    "@misc{ Qiskit-Textbook,\n",
    "       author = {Abraham Asfaw and Luciano Bello and Yael Ben-Haim and Sergey Bravyi and Lauren Capelluto and Almudena Carrera Vazquez and Jack Ceroni and\n",
    "       Jay Gambetta and Shelly Garion and Leron Gil and Salvador De La Puente Gonzalez and David McKay and Zlatko Minev and Paul Nation and Anna Phan\n",
    "               and Arthur Rattew and Javad Shabani and John Smolin and Kristan Temme and Madeleine Tod and James Wootton.},\n",
    "       title = {Learn Quantum Computation Using Qiskit},\n",
    "       year = {2019},\n",
    "       url = {http://community.qiskit.org/textbook},\n",
    "}"
   ]
  },
  {
   "cell_type": "code",
   "execution_count": null,
   "metadata": {},
   "outputs": [],
   "source": []
  }
 ],
 "metadata": {
  "kernelspec": {
   "display_name": "Python (Qiskitenv)",
   "language": "python",
   "name": "qiskitenv"
  },
  "language_info": {
   "codemirror_mode": {
    "name": "ipython",
    "version": 3
   },
   "file_extension": ".py",
   "mimetype": "text/x-python",
   "name": "python",
   "nbconvert_exporter": "python",
   "pygments_lexer": "ipython3",
   "version": "3.7.4"
  }
 },
 "nbformat": 4,
 "nbformat_minor": 2
}
