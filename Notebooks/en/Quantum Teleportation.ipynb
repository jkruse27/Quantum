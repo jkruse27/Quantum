{
 "cells": [
  {
   "cell_type": "markdown",
   "metadata": {},
   "source": [
    "# Quantum Teleportation"
   ]
  },
  {
   "cell_type": "markdown",
   "metadata": {},
   "source": [
    "### Goal"
   ]
  },
  {
   "cell_type": "markdown",
   "metadata": {},
   "source": [
    "Send quantum information from one qubit in a state $ \\left| \\psi \\right\\rangle $ from one person to another. This is called quantum teleportation because we can't copy the state of a qubit, so that to transfer this state we must modify the original qubit."
   ]
  },
  {
   "cell_type": "markdown",
   "metadata": {},
   "source": [
    "### Algorithm"
   ]
  },
  {
   "cell_type": "markdown",
   "metadata": {},
   "source": [
    "As we can't copy the state we must use another method for this transfering"
   ]
  },
  {
   "cell_type": "code",
   "execution_count": 2,
   "metadata": {},
   "outputs": [],
   "source": [
    "import qiskit as qk\n",
    "from qiskit import ClassicalRegister, QuantumRegister, QuantumCircuit\n",
    "from qiskit import execute, Aer\n",
    "from qiskit.tools.visualization import plot_histogram"
   ]
  },
  {
   "cell_type": "code",
   "execution_count": 1,
   "metadata": {},
   "outputs": [
    {
     "ename": "NameError",
     "evalue": "name 'QuantumRegister' is not defined",
     "output_type": "error",
     "traceback": [
      "\u001b[0;31m---------------------------------------------------------------------------\u001b[0m",
      "\u001b[0;31mNameError\u001b[0m                                 Traceback (most recent call last)",
      "\u001b[0;32m<ipython-input-1-33a2e0ba1726>\u001b[0m in \u001b[0;36m<module>\u001b[0;34m\u001b[0m\n\u001b[1;32m      4\u001b[0m  do transmissor, 2 = bit do receptor)\n\u001b[1;32m      5\u001b[0m \"\"\"\n\u001b[0;32m----> 6\u001b[0;31m \u001b[0mq\u001b[0m \u001b[0;34m=\u001b[0m \u001b[0mQuantumRegister\u001b[0m\u001b[0;34m(\u001b[0m\u001b[0;36m3\u001b[0m\u001b[0;34m)\u001b[0m\u001b[0;34m\u001b[0m\u001b[0;34m\u001b[0m\u001b[0m\n\u001b[0m\u001b[1;32m      7\u001b[0m \u001b[0;34m\u001b[0m\u001b[0m\n\u001b[1;32m      8\u001b[0m \u001b[0;31m# Bits classicos para guardar os resultados\u001b[0m\u001b[0;34m\u001b[0m\u001b[0;34m\u001b[0m\u001b[0;34m\u001b[0m\u001b[0m\n",
      "\u001b[0;31mNameError\u001b[0m: name 'QuantumRegister' is not defined"
     ]
    }
   ],
   "source": [
    "# ------------------------------- Initialization --------------------------------------#\n",
    "\"\"\"\n",
    " Creates a quantum circuit with 3 qubits (0 = bit to be sent, 1 = senders intermediate bit\n",
    " , 2 = receivers bit)\n",
    "\"\"\"\n",
    "q = QuantumRegister(3)\n",
    "\n",
    "# Classical bits to store the result\n",
    "c = ClassicalRegister(3)\n",
    "qc = QuantumCircuit(q, c)\n",
    "\n",
    "# Defines the state of the bit to be transfered (may have any operations here)\n",
    "qc.x(0)\n",
    "qc.h(0)\n",
    "qc.z(0)\n",
    "\n",
    "qc.barrier()\n",
    "\n",
    "# ---------------------------------- 1a Step -----------------------------------------#\n",
    "\"\"\"\n",
    "    We need to entangle the senders intermediate qubit with the receivers qubit.\n",
    "    For this, we apply a Hadamard in the senders qubit to let it in a superposition \n",
    "    state and then proceed applying a cnot with the superposition bit as control\n",
    "    and the other as target. With this, we obtain a state of entanglement because \n",
    "    the value in one qubit will depend on the other, as the control has 50% chance \n",
    "    of being in each state and the target bit will be altered only if the control\n",
    "    bit is 1. Thereby, the only possible values (disconsidering noise and decoherence\n",
    "    are |00> and |11> for the pair. This is called Bell State or Bell Pair because\n",
    "    the states |+> e |-> are called Bell Basis.\n",
    "\"\"\"\n",
    "qc.cx(1, 2)\n",
    "\n",
    "qc.barrier()\n",
    "\n",
    "# ---------------------------------- 2a Step -----------------------------------------#\n",
    "\"\"\"\n",
    "    Now we need to apply a CNOT with the senders intermediate bit as targer and with\n",
    "    the bit we desire to send as control. This will end up resulting in an entangled  \n",
    "    state between the 3 qubits, in such a way that the value of each of them depends \n",
    "    on the values of the others. \n",
    "\"\"\"\n",
    "qc.cx(0, 1)\n",
    "\n",
    "qc.barrier()\n",
    "\n",
    "# ---------------------------------- 3a Step -----------------------------------------#\n",
    "\"\"\"\n",
    "    Next, we apply a Hadamard on the qubit to be sent and perform a measurement\n",
    "    of the 2 qubits from the sender.\n",
    "\"\"\"\n",
    "qc.h(0)\n",
    "qc.measure(0, 0)\n",
    "qc.measure(1, 1)\n",
    "\n",
    "qc.barrier()\n",
    "\n",
    "# ---------------------------------- 4a Step -----------------------------------------#\n",
    "\"\"\"\n",
    "    At last, depending on the result of the measurements (which would have to be \n",
    "    transfered classically to the receiver), it may be necessary to apply some \n",
    "    operation to the receivers qubit, following the table below:\n",
    "      Measurement       Operation\n",
    "        \n",
    "          00             Nothing\n",
    "          01                X\n",
    "          10                Z\n",
    "          11                ZX\n",
    "    \n",
    "    With this, the receivers bit will be equal to the original state of the qubit\n",
    "    we intended to send by the sender.\n",
    "\"\"\"\n",
    "qc.cz(0, 2)\n",
    "qc.cx(1, 2)\n",
    "\n",
    "qc.barrier()\n",
    "\n",
    "qc.draw(output=\"mpl\")\n",
    "# ---------------------------------- Measurement -----------------------------------------#\n",
    "\"\"\"\n",
    "    If the transmission worked, we must be able to obtain the original state of the\n",
    "    qubit 2 (received) applying again the transformations that were made to obtain the\n",
    "    original value of the qubit to be sent, because quantum gates are reversible.\n",
    "    (In this case the original value of the qubit 2 was |0> bacause that's the state they \n",
    "    begin at)\n",
    "\"\"\"\n",
    "qc.x(0)\n",
    "qc.h(0)\n",
    "qc.z(0)\n",
    "qc.measure(q[2], c[2])\n",
    "\n"
   ]
  },
  {
   "cell_type": "markdown",
   "metadata": {},
   "source": [
    "### Simulating"
   ]
  },
  {
   "cell_type": "code",
   "execution_count": 8,
   "metadata": {},
   "outputs": [
    {
     "name": "stdout",
     "output_type": "stream",
     "text": [
      "{'001': 249, '011': 269, '010': 262, '000': 244}\n"
     ]
    },
    {
     "data": {
      "image/png": "[encoded data removed]",
      "text/plain": [
       "<Figure size 504x360 with 1 Axes>"
      ]
     },
     "execution_count": 8,
     "metadata": {},
     "output_type": "execute_result"
    }
   ],
   "source": [
    "backend = Aer.get_backend('qasm_simulator')\n",
    "job_sim = execute(qc, backend, shots=1024)\n",
    "sim_result = job_sim.result()\n",
    "\n",
    "measurement_result = sim_result.get_counts(qc)\n",
    "print(measurement_result)\n",
    "plot_histogram(measurement_result)"
   ]
  },
  {
   "cell_type": "markdown",
   "metadata": {},
   "source": [
    "In this graph, we have that the order is c2c1c0. As we can see by the results, the bit c2 (received) is always 0 as was expected (because we are not considering decoherence nor noise), which shows that the teleportation worked."
   ]
  },
  {
   "cell_type": "markdown",
   "metadata": {},
   "source": [
    "### Bibliography:"
   ]
  },
  {
   "cell_type": "markdown",
   "metadata": {},
   "source": [
    "    Abraham Asfaw, Luciano Bello, Yael Ben-Haim, Sergey Bravyi, Lauren Capelluto, Almudena Carrera Vazquez, Jack Ceroni, Jay Gambetta, Shelly Garion, Leron Gil, Salvador De La Puente Gonzalez, David McKay, Zlatko Minev, Paul Nation, Anna Phan, Arthur Rattew, Javad Shabani, John Smolin, Kristan Temme, Madeleine Tod, James Wootton. \"Learn Quantum Computation using Qiskit.\" (August 2019). \n",
    "    Retrieved from http://community.qiskit.org/textbook"
   ]
  },
  {
   "cell_type": "code",
   "execution_count": null,
   "metadata": {},
   "outputs": [],
   "source": []
  }
 ],
 "metadata": {
  "kernelspec": {
   "display_name": "Python (Qiskitenv)",
   "language": "python",
   "name": "qiskitenv"
  },
  "language_info": {
   "codemirror_mode": {
    "name": "ipython",
    "version": 3
   },
   "file_extension": ".py",
   "mimetype": "text/x-python",
   "name": "python",
   "nbconvert_exporter": "python",
   "pygments_lexer": "ipython3",
   "version": "3.7.4"
  }
 },
 "nbformat": 4,
 "nbformat_minor": 2
}
