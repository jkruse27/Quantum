{
 "cells": [
  {
   "cell_type": "code",
   "execution_count": 21,
   "metadata": {},
   "outputs": [],
   "source": [
    "from qiskit import *\n",
    "from qiskit.visualization import plot_histogram"
   ]
  },
  {
   "cell_type": "code",
   "execution_count": 87,
   "metadata": {},
   "outputs": [],
   "source": [
    "#function that receives 2 strings with 4 bit binnary digits and returns a \n",
    "#quantum circuit with thes bits mapped in them\n",
    "def addNumbers(a, b):\n",
    "    qc = QuantumCircuit(19, 5)\n",
    "    for i in range(len(a)):\n",
    "        if(a[i] == '1'):\n",
    "            qc.x(3 - i)\n",
    "    \n",
    "    for i in range(len(b)):\n",
    "        if(b[i] == '1'):\n",
    "            qc.x(7 - i)\n",
    "    return qc"
   ]
  },
  {
   "cell_type": "code",
   "execution_count": 117,
   "metadata": {},
   "outputs": [
    {
     "data": {
      "text/plain": [
       "<qiskit.circuit.measure.Measure at 0x7f91b84c0650>"
      ]
     },
     "execution_count": 117,
     "metadata": {},
     "output_type": "execute_result"
    }
   ],
   "source": [
    "#initializes the numbers\n",
    "#qubits from 0 to 3 = first number\n",
    "#qubits from 4 to 7 = second number\n",
    "qc = addNumbers(\"1101\", \"0110\")\n",
    "\n",
    "qc.barrier()\n",
    "\n",
    "#performs the operation of summing the 2 digits without carrying about carry or overflow\n",
    "qc.cx(0, 8)\n",
    "qc.cx(4, 8)\n",
    "qc.ccx(0, 4, 12)\n",
    "\n",
    "qc.cx(1, 9)\n",
    "qc.cx(5, 9)\n",
    "qc.ccx(1, 5, 13)\n",
    "qc.ccx(5, 12, 13)\n",
    "qc.ccx(1, 12, 13)\n",
    "qc.cx(12, 9)\n",
    "\n",
    "qc.cx(2, 10)\n",
    "qc.cx(6, 10)\n",
    "qc.ccx(2, 6, 14)\n",
    "qc.ccx(6, 13, 14)\n",
    "qc.ccx(2, 13, 14)\n",
    "qc.cx(13, 10)\n",
    "\n",
    "qc.cx(3, 11)\n",
    "qc.cx(7, 11)\n",
    "qc.ccx(3, 7, 15)\n",
    "qc.ccx(7, 14, 15)\n",
    "qc.ccx(3, 14, 15)\n",
    "qc.cx(14, 11)\n",
    "\n",
    "qc.barrier()\n",
    "\n",
    "for i in range(4):\n",
    "    qc.measure(i + 8 ,i)\n",
    "    \n",
    "qc.measure(15, 4)\n",
    "\n",
    "#qc.draw()"
   ]
  },
  {
   "cell_type": "code",
   "execution_count": 118,
   "metadata": {},
   "outputs": [
    {
     "name": "stdout",
     "output_type": "stream",
     "text": [
      "10011\n"
     ]
    },
    {
     "data": {
      "image/png": "[encoded data removed]",
      "text/plain": [
       "<Figure size 504x360 with 1 Axes>"
      ]
     },
     "execution_count": 118,
     "metadata": {},
     "output_type": "execute_result"
    }
   ],
   "source": [
    "backend = Aer.get_backend(\"qasm_simulator\")\n",
    "\n",
    "a = execute(qc, backend).result().get_counts()\n",
    "\n",
    "print(\"\".join(a.keys()))\n",
    "plot_histogram(a)\n"
   ]
  },
  {
   "cell_type": "code",
   "execution_count": null,
   "metadata": {},
   "outputs": [],
   "source": []
  },
  {
   "cell_type": "code",
   "execution_count": null,
   "metadata": {},
   "outputs": [],
   "source": []
  }
 ],
 "metadata": {
  "kernelspec": {
   "display_name": "Python (Qiskitenv)",
   "language": "python",
   "name": "qiskitenv"
  },
  "language_info": {
   "codemirror_mode": {
    "name": "ipython",
    "version": 3
   },
   "file_extension": ".py",
   "mimetype": "text/x-python",
   "name": "python",
   "nbconvert_exporter": "python",
   "pygments_lexer": "ipython3",
   "version": "3.7.4"
  }
 },
 "nbformat": 4,
 "nbformat_minor": 2
}
