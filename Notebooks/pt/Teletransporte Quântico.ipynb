{
 "cells": [
  {
   "cell_type": "markdown",
   "metadata": {},
   "source": [
    "# Teletransporte Quântico"
   ]
  },
  {
   "cell_type": "markdown",
   "metadata": {},
   "source": [
    "### Objetivo"
   ]
  },
  {
   "cell_type": "markdown",
   "metadata": {},
   "source": [
    "Enviar informação quântica de um qubit em um estado $ \\left| \\psi \\right\\rangle $ de uma pessoa para outra. Isso recebe o nome de teleporte quântico devido ao fato de que não se pode copiar o estado de um qubit, de forma que para transmitir esse estado é necessário modificar o qubit original que o tinha."
   ]
  },
  {
   "cell_type": "markdown",
   "metadata": {},
   "source": [
    "### Método"
   ]
  },
  {
   "cell_type": "markdown",
   "metadata": {},
   "source": [
    "Como não é possível copiar um qubit, devemos utilizar outra forma de transferência."
   ]
  },
  {
   "cell_type": "code",
   "execution_count": 3,
   "metadata": {},
   "outputs": [],
   "source": [
    "import qiskit as qk\n",
    "from qiskit import ClassicalRegister, QuantumRegister, QuantumCircuit\n",
    "from qiskit import execute, Aer\n",
    "from qiskit.tools.visualization import plot_histogram"
   ]
  },
  {
   "cell_type": "code",
   "execution_count": 7,
   "metadata": {},
   "outputs": [
    {
     "data": {
      "image/png": "[encoded data removed]",
      "text/plain": [
       "<Figure size 1143.8x379.26 with 1 Axes>"
      ]
     },
     "execution_count": 7,
     "metadata": {},
     "output_type": "execute_result"
    }
   ],
   "source": [
    "# ------------------------------- Inicializacao --------------------------------------#\n",
    "\"\"\"\n",
    " Cria circuito quantico com 3 qubits (0 = bit a ser transferido, 1 = bit intermediario\n",
    " do transmissor, 2 = bit do receptor)\n",
    "\"\"\"\n",
    "q = QuantumRegister(3)\n",
    "\n",
    "# Bits classicos para guardar os resultados\n",
    "c = ClassicalRegister(3)\n",
    "qc = QuantumCircuit(q, c)\n",
    "\n",
    "# Define estado do bit a ser transferido (pode ter qualquer operacoes aqui)\n",
    "qc.x(0)\n",
    "qc.h(0)\n",
    "qc.z(0)\n",
    "\n",
    "qc.barrier()\n",
    "\n",
    "# ---------------------------------- 1a etapa -----------------------------------------#\n",
    "\"\"\"\n",
    "    Precisamos emaranhar o bit intermediario do transmissor com o do receptor.\n",
    "    Para isso, aplicamos um Hadamard em um dos dois qubits para deixa-lo em \n",
    "    estado de superposicao e depois aplicamos um cnot com o bit em superposicao\n",
    "    como controle e o outro como alvo. Com isso, obtemos um estado de emaranhamento \n",
    "    pois o valor de um qubit dependera do outro, ja que o controle tem 50% de \n",
    "    chance de estar em cada estado e o bit alvo sera alterado apenas se o bit \n",
    "    controle for 1. Com isso, os unicos valores possiveis (desconsiderando ruido\n",
    "    e interferencias) sao |00> e |11> para o par. Isso eh chamado de estado de Bell\n",
    "    ou Par de Bell (Bell State ou Bell Pair), pois temos que os estados |+> e |->\n",
    "    sao chamados de Base de Bell (Bell Basis).\n",
    "\"\"\"\n",
    "qc.cx(1, 2)\n",
    "\n",
    "qc.barrier()\n",
    "\n",
    "# ---------------------------------- 2a etapa -----------------------------------------#\n",
    "\"\"\"\n",
    "    Agora precisamos aplicar um cnot com o bit intermediario do transmissor como alvo\n",
    "    e com o bit que deseja ser enviado do transmissor como controle. Isso acabara \n",
    "    resultando em um estado de emaranhamento entre os 3 qubits, de forma que o valor \n",
    "    de cada um depende dos valores dos outros. \n",
    "\"\"\"\n",
    "qc.cx(0, 1)\n",
    "\n",
    "qc.barrier()\n",
    "\n",
    "# ---------------------------------- 3a etapa -----------------------------------------#\n",
    "\"\"\"\n",
    "    A seguir, aplicamos um Hadamard no qubit  a ser transferido e realizamos a \n",
    "    medicao dos 2 qubits do transmissor.\n",
    "\"\"\"\n",
    "qc.h(0)\n",
    "qc.measure(0, 0)\n",
    "qc.measure(1, 1)\n",
    "\n",
    "qc.barrier()\n",
    "\n",
    "# ---------------------------------- 4a etapa -----------------------------------------#\n",
    "\"\"\"\n",
    "    Por fim, dependendo do resultado das medicoes (que teria que ser transferido \n",
    "    classicamente para o receptor), pode ser necessario aplicar alguma operacao\n",
    "    no qubit do receptor, seguindo a tabela abaixo:\n",
    "        Medicao         Operacao\n",
    "        \n",
    "          00               Nada\n",
    "          01                X\n",
    "          10                Z\n",
    "          11                ZX\n",
    "    \n",
    "    Com isso, o bit do receptor se tornou igual ao estado original que queriamos\n",
    "    transferir do bit do transmissor.\n",
    "\"\"\"\n",
    "qc.cz(0, 2)\n",
    "qc.cx(1, 2)\n",
    "\n",
    "qc.barrier()\n",
    "\n",
    "qc.draw(output=\"mpl\")\n",
    "# ---------------------------------- Medicao -----------------------------------------#\n",
    "\"\"\"\n",
    "    Se a transmissao tiver dado certo, devemos conseguir obter o estado original do\n",
    "    qubit 2 (recebido) aplicando novamente as transformacoes que foram feitas para\n",
    "    obter o valor original do qubit a ser enviado, devido a reversibilidade das portas\n",
    "    quanticas. (Nesse caso o valor original do qubit 2 era |0> porque esse eh o estado\n",
    "    em que eles comecam)\n",
    "\"\"\"\n",
    "qc.x(0)\n",
    "qc.h(0)\n",
    "qc.z(0)\n",
    "qc.measure(q[2], c[2])\n",
    "\n"
   ]
  },
  {
   "cell_type": "markdown",
   "metadata": {},
   "source": [
    "### Simulando "
   ]
  },
  {
   "cell_type": "code",
   "execution_count": 8,
   "metadata": {},
   "outputs": [
    {
     "name": "stdout",
     "output_type": "stream",
     "text": [
      "{'001': 249, '011': 269, '010': 262, '000': 244}\n"
     ]
    },
    {
     "data": {
      "image/png": "[encoded data removed]",
      "text/plain": [
       "<Figure size 504x360 with 1 Axes>"
      ]
     },
     "execution_count": 8,
     "metadata": {},
     "output_type": "execute_result"
    }
   ],
   "source": [
    "backend = Aer.get_backend('qasm_simulator')\n",
    "job_sim = execute(qc, backend, shots=1024)\n",
    "sim_result = job_sim.result()\n",
    "\n",
    "measurement_result = sim_result.get_counts(qc)\n",
    "print(measurement_result)\n",
    "plot_histogram(measurement_result)"
   ]
  },
  {
   "cell_type": "markdown",
   "metadata": {},
   "source": [
    "Nesse gráfico, temos que a ordem é c2c1c0. Como podemos ver pelos resultados, o bit c2 (recebido) é sempre 0 como era de se esperar (já que não estamos trabalhando com incoerências nem ruído), o que mostra que o teleporte funcionou."
   ]
  },
  {
   "cell_type": "markdown",
   "metadata": {},
   "source": [
    "### Bibliografia:"
   ]
  },
  {
   "cell_type": "markdown",
   "metadata": {},
   "source": [
    "    Abraham Asfaw, Luciano Bello, Yael Ben-Haim, Sergey Bravyi, Lauren Capelluto, Almudena Carrera Vazquez, Jack Ceroni, Jay Gambetta, Shelly Garion, Leron Gil, Salvador De La Puente Gonzalez, David McKay, Zlatko Minev, Paul Nation, Anna Phan, Arthur Rattew, Javad Shabani, John Smolin, Kristan Temme, Madeleine Tod, James Wootton. \"Learn Quantum Computation using Qiskit.\" (August 2019). \n",
    "    Retrieved from http://community.qiskit.org/textbook"
   ]
  },
  {
   "cell_type": "code",
   "execution_count": null,
   "metadata": {},
   "outputs": [],
   "source": []
  }
 ],
 "metadata": {
  "kernelspec": {
   "display_name": "Python (Qiskitenv)",
   "language": "python",
   "name": "qiskitenv"
  },
  "language_info": {
   "codemirror_mode": {
    "name": "ipython",
    "version": 3
   },
   "file_extension": ".py",
   "mimetype": "text/x-python",
   "name": "python",
   "nbconvert_exporter": "python",
   "pygments_lexer": "ipython3",
   "version": "3.7.4"
  }
 },
 "nbformat": 4,
 "nbformat_minor": 2
}
